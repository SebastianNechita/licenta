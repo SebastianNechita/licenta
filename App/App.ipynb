{
 "cells": [
  {
   "cell_type": "code",
   "execution_count": 12,
   "metadata": {},
   "outputs": [
    {
     "name": "stdout",
     "output_type": "stream",
     "text": [
      "\n"
     ]
    }
   ],
   "source": [
    "def add(a: int, b: int) -> int:\n",
    "    c = a + b\n",
    "    return \"\"\n",
    "print(add(3, 4))"
   ]
  },
  {
   "cell_type": "code",
   "execution_count": 1,
   "metadata": {},
   "outputs": [
    {
     "name": "stdout",
     "output_type": "stream",
     "text": [
      "['E:\\\\licenta\\\\App', 'E:\\\\licenta\\\\App\\\\keras-retinanet', 'E:\\\\licenta\\\\App\\\\re3-tensorflow', 'E:\\\\licenta\\\\App\\\\mAP', 'E:\\\\licenta\\\\App\\\\keras-yolo3', 'C:\\\\Users\\\\sebin\\\\Anaconda3\\\\envs\\\\py36\\\\python36.zip', 'C:\\\\Users\\\\sebin\\\\Anaconda3\\\\envs\\\\py36\\\\DLLs', 'C:\\\\Users\\\\sebin\\\\Anaconda3\\\\envs\\\\py36\\\\lib', 'C:\\\\Users\\\\sebin\\\\Anaconda3\\\\envs\\\\py36', '', 'C:\\\\Users\\\\sebin\\\\AppData\\\\Roaming\\\\Python\\\\Python36\\\\site-packages', 'C:\\\\Users\\\\sebin\\\\Anaconda3\\\\envs\\\\py36\\\\lib\\\\site-packages', 'C:\\\\Users\\\\sebin\\\\Anaconda3\\\\envs\\\\py36\\\\lib\\\\site-packages\\\\IPython\\\\extensions', 'C:\\\\Users\\\\sebin\\\\.ipython', './keras-yolo3/', './re3-tensorflow/']\n"
     ]
    }
   ],
   "source": [
    "from pedect.converter.ConverterToImages import *\n",
    "from pedect.config.BasicConfig import *\n",
    "import os\n",
    "import sys\n",
    "\n",
    "sys.path.append(\"./keras-yolo3/\") \n",
    "sys.path.append(\"./re3-tensorflow/\") \n",
    "print(sys.path)"
   ]
  },
  {
   "cell_type": "code",
   "execution_count": 2,
   "metadata": {},
   "outputs": [
    {
     "name": "stdout",
     "output_type": "stream",
     "text": [
      "Restoring:\n",
      "re3/conv1/W_conv -> \t[11, 11, 3, 96] = 0MB\n",
      "re3/conv1/b_conv -> \t[96] = 0MB\n",
      "re3/conv1_skip/W_conv -> \t[1, 1, 96, 16] = 0MB\n",
      "re3/conv1_skip/b_conv -> \t[16] = 0MB\n",
      "re3/conv1_skip/prelu -> \t[16] = 0MB\n",
      "re3/conv2/W_conv -> \t[5, 5, 48, 256] = 1MB\n",
      "re3/conv2/b_conv -> \t[256] = 0MB\n",
      "re3/conv2_skip/W_conv -> \t[1, 1, 256, 32] = 0MB\n",
      "re3/conv2_skip/b_conv -> \t[32] = 0MB\n",
      "re3/conv2_skip/prelu -> \t[32] = 0MB\n",
      "re3/conv3/W_conv -> \t[3, 3, 256, 384] = 3MB\n",
      "re3/conv3/b_conv -> \t[384] = 0MB\n",
      "re3/conv4/W_conv -> \t[3, 3, 192, 384] = 2MB\n",
      "re3/conv4/b_conv -> \t[384] = 0MB\n",
      "re3/conv5/W_conv -> \t[3, 3, 192, 256] = 1MB\n",
      "re3/conv5/b_conv -> \t[256] = 0MB\n",
      "re3/conv5_skip/W_conv -> \t[1, 1, 256, 64] = 0MB\n",
      "re3/conv5_skip/b_conv -> \t[64] = 0MB\n",
      "re3/conv5_skip/prelu -> \t[64] = 0MB\n",
      "re3/fc6/W_fc -> \t[74208, 1024] = 303MB\n",
      "re3/fc6/b_fc -> \t[1024] = 0MB\n",
      "re3/fc_output/W_fc -> \t[512, 4] = 0MB\n",
      "re3/fc_output/b_fc -> \t[4] = 0MB\n",
      "re3/lstm1/rnn/lstm_cell/bias -> \t[2048] = 0MB\n",
      "re3/lstm1/rnn/lstm_cell/kernel -> \t[1536, 2048] = 12MB\n",
      "re3/lstm1/rnn/lstm_cell/w_f_diag -> \t[512] = 0MB\n",
      "re3/lstm1/rnn/lstm_cell/w_i_diag -> \t[512] = 0MB\n",
      "re3/lstm1/rnn/lstm_cell/w_o_diag -> \t[512] = 0MB\n",
      "re3/lstm2/rnn/lstm_cell/bias -> \t[2048] = 0MB\n",
      "re3/lstm2/rnn/lstm_cell/kernel -> \t[2048, 2048] = 16MB\n",
      "re3/lstm2/rnn/lstm_cell/w_f_diag -> \t[512] = 0MB\n",
      "re3/lstm2/rnn/lstm_cell/w_i_diag -> \t[512] = 0MB\n",
      "re3/lstm2/rnn/lstm_cell/w_o_diag -> \t[512] = 0MB\n",
      "\n",
      "\n",
      "Did not restore:beta1_power\n",
      "\tbeta2_power\n",
      "\tglobal_step\n",
      "\tre3/conv1/W_conv/Adam\n",
      "\tre3/conv1/W_conv/Adam_1\n",
      "\tre3/conv1/b_conv/Adam\n",
      "\tre3/conv1/b_conv/Adam_1\n",
      "\tre3/conv1_skip/W_conv/Adam\n",
      "\tre3/conv1_skip/W_conv/Adam_1\n",
      "\tre3/conv1_skip/b_conv/Adam\n",
      "\tre3/conv1_skip/b_conv/Adam_1\n",
      "\tre3/conv1_skip/prelu/Adam\n",
      "\tre3/conv1_skip/prelu/Adam_1\n",
      "\tre3/conv2/W_conv/Adam\n",
      "\tre3/conv2/W_conv/Adam_1\n",
      "\tre3/conv2/b_conv/Adam\n",
      "\tre3/conv2/b_conv/Adam_1\n",
      "\tre3/conv2_skip/W_conv/Adam\n",
      "\tre3/conv2_skip/W_conv/Adam_1\n",
      "\tre3/conv2_skip/b_conv/Adam\n",
      "\tre3/conv2_skip/b_conv/Adam_1\n",
      "\tre3/conv2_skip/prelu/Adam\n",
      "\tre3/conv2_skip/prelu/Adam_1\n",
      "\tre3/conv3/W_conv/Adam\n",
      "\tre3/conv3/W_conv/Adam_1\n",
      "\tre3/conv3/b_conv/Adam\n",
      "\tre3/conv3/b_conv/Adam_1\n",
      "\tre3/conv4/W_conv/Adam\n",
      "\tre3/conv4/W_conv/Adam_1\n",
      "\tre3/conv4/b_conv/Adam\n",
      "\tre3/conv4/b_conv/Adam_1\n",
      "\tre3/conv5/W_conv/Adam\n",
      "\tre3/conv5/W_conv/Adam_1\n",
      "\tre3/conv5/b_conv/Adam\n",
      "\tre3/conv5/b_conv/Adam_1\n",
      "\tre3/conv5_skip/W_conv/Adam\n",
      "\tre3/conv5_skip/W_conv/Adam_1\n",
      "\tre3/conv5_skip/b_conv/Adam\n",
      "\tre3/conv5_skip/b_conv/Adam_1\n",
      "\tre3/conv5_skip/prelu/Adam\n",
      "\tre3/conv5_skip/prelu/Adam_1\n",
      "\tre3/fc6/W_fc/Adam\n",
      "\tre3/fc6/W_fc/Adam_1\n",
      "\tre3/fc6/b_fc/Adam\n",
      "\tre3/fc6/b_fc/Adam_1\n",
      "\tre3/fc_output/W_fc/Adam\n",
      "\tre3/fc_output/W_fc/Adam_1\n",
      "\tre3/fc_output/b_fc/Adam\n",
      "\tre3/fc_output/b_fc/Adam_1\n",
      "\tre3/lstm1/rnn/lstm_cell/bias/Adam\n",
      "\tre3/lstm1/rnn/lstm_cell/bias/Adam_1\n",
      "\tre3/lstm1/rnn/lstm_cell/kernel/Adam\n",
      "\tre3/lstm1/rnn/lstm_cell/kernel/Adam_1\n",
      "\tre3/lstm1/rnn/lstm_cell/w_f_diag/Adam\n",
      "\tre3/lstm1/rnn/lstm_cell/w_f_diag/Adam_1\n",
      "\tre3/lstm1/rnn/lstm_cell/w_i_diag/Adam\n",
      "\tre3/lstm1/rnn/lstm_cell/w_i_diag/Adam_1\n",
      "\tre3/lstm1/rnn/lstm_cell/w_o_diag/Adam\n",
      "\tre3/lstm1/rnn/lstm_cell/w_o_diag/Adam_1\n",
      "\tre3/lstm2/rnn/lstm_cell/bias/Adam\n",
      "\tre3/lstm2/rnn/lstm_cell/bias/Adam_1\n",
      "\tre3/lstm2/rnn/lstm_cell/kernel/Adam\n",
      "\tre3/lstm2/rnn/lstm_cell/kernel/Adam_1\n",
      "\tre3/lstm2/rnn/lstm_cell/w_f_diag/Adam\n",
      "\tre3/lstm2/rnn/lstm_cell/w_f_diag/Adam_1\n",
      "\tre3/lstm2/rnn/lstm_cell/w_i_diag/Adam\n",
      "\tre3/lstm2/rnn/lstm_cell/w_i_diag/Adam_1\n",
      "\tre3/lstm2/rnn/lstm_cell/w_o_diag/Adam\n",
      "\tre3/lstm2/rnn/lstm_cell/w_o_diag/Adam_1\n",
      "INFO:tensorflow:Restoring parameters from E:\\licenta\\App\\re3-tensorflow\\logs\\checkpoints\\model.ckpt-260946\n",
      "Restored E:\\licenta\\App\\re3-tensorflow\\logs\\checkpoints\\model.ckpt-260946\n"
     ]
    },
    {
     "name": "stderr",
     "output_type": "stream",
     "text": [
      "Using TensorFlow backend.\n"
     ]
    }
   ],
   "source": [
    "from pedect.controller.Controller import Controller\n",
    "   \n",
    "\n",
    "config = getConfigFromTrainId(2)\n",
    "controller = Controller(config)"
   ]
  },
  {
   "cell_type": "code",
   "execution_count": 3,
   "metadata": {},
   "outputs": [],
   "source": [
    "# controller.prepareTrainingSet([(\"caltech\" , \"set01\", \"V000\"), (\"caltech\", \"set02\", \"V000\")])"
   ]
  },
  {
   "cell_type": "code",
   "execution_count": 8,
   "metadata": {},
   "outputs": [
    {
     "name": "stdout",
     "output_type": "stream",
     "text": [
      "YoloPredictor   --->  53.93\n"
     ]
    },
    {
     "name": "stderr",
     "output_type": "stream",
     "text": [
      "\r",
      "  0%|                                                                                           | 0/10 [00:00<?, ?it/s]"
     ]
    },
    {
     "name": "stdout",
     "output_type": "stream",
     "text": [
      "{'createThreshold': 0.0, 'removeThreshold': 0.0, 'surviveThreshold': 1.0, 'surviveMovePercent': 1.0, 'minScorePrediction': 0.0}  --->  53.93\n"
     ]
    },
    {
     "name": "stderr",
     "output_type": "stream",
     "text": [
      "\r",
      " 10%|████████▎                                                                          | 1/10 [00:10<01:36, 10.67s/it]"
     ]
    },
    {
     "name": "stdout",
     "output_type": "stream",
     "text": [
      "{'createThreshold': 0.9, 'removeThreshold': 0.5, 'surviveThreshold': 0.2, 'surviveMovePercent': 0.0, 'minScorePrediction': 0.5}  --->  16.67\n"
     ]
    },
    {
     "name": "stderr",
     "output_type": "stream",
     "text": [
      "\r",
      " 20%|████████████████▌                                                                  | 2/10 [00:13<01:06,  8.36s/it]"
     ]
    },
    {
     "name": "stdout",
     "output_type": "stream",
     "text": [
      "{'createThreshold': 0.10912214060789349, 'removeThreshold': 0.04270156032201755, 'surviveThreshold': 0.07794231061080958, 'surviveMovePercent': 0.20030276258167412, 'minScorePrediction': 0.1608222603164179}  --->  51.76\n"
     ]
    },
    {
     "name": "stderr",
     "output_type": "stream",
     "text": [
      "\r",
      " 30%|████████████████████████▉                                                          | 3/10 [00:22<01:00,  8.62s/it]"
     ]
    },
    {
     "name": "stdout",
     "output_type": "stream",
     "text": [
      "{'createThreshold': 0.4971400385594327, 'removeThreshold': 0.6992779751716912, 'surviveThreshold': 0.5374356944247016, 'surviveMovePercent': 0.42211117005637844, 'minScorePrediction': 0.64924227065607}  --->  29.63\n"
     ]
    },
    {
     "name": "stderr",
     "output_type": "stream",
     "text": [
      "\r",
      " 40%|█████████████████████████████████▏                                                 | 4/10 [00:29<00:48,  8.03s/it]"
     ]
    },
    {
     "name": "stdout",
     "output_type": "stream",
     "text": [
      "{'createThreshold': 0.30464991199500346, 'removeThreshold': 0.46440530909286115, 'surviveThreshold': 0.7570987544304725, 'surviveMovePercent': 0.40145783452967065, 'minScorePrediction': 0.18058906089794613}  --->  48.38\n"
     ]
    },
    {
     "name": "stderr",
     "output_type": "stream",
     "text": [
      "\r",
      " 50%|█████████████████████████████████████████▌                                         | 5/10 [00:37<00:39,  7.93s/it]"
     ]
    },
    {
     "name": "stdout",
     "output_type": "stream",
     "text": [
      "{'createThreshold': 0.8994112837108978, 'removeThreshold': 0.7196920160698008, 'surviveThreshold': 0.3669327709733545, 'surviveMovePercent': 0.37097318804074364, 'minScorePrediction': 0.5293311503643464}  --->  16.67\n"
     ]
    },
    {
     "name": "stderr",
     "output_type": "stream",
     "text": [
      "\r",
      " 60%|█████████████████████████████████████████████████▊                                 | 6/10 [00:40<00:25,  6.45s/it]"
     ]
    },
    {
     "name": "stdout",
     "output_type": "stream",
     "text": [
      "{'createThreshold': 0.5964741811291071, 'removeThreshold': 0.22384698666428604, 'surviveThreshold': 0.0027005508854507365, 'surviveMovePercent': 0.20899506105984256, 'minScorePrediction': 0.7831802619221067}  --->  23.06\n"
     ]
    },
    {
     "name": "stderr",
     "output_type": "stream",
     "text": [
      "\r",
      " 70%|██████████████████████████████████████████████████████████                         | 7/10 [00:46<00:19,  6.52s/it]"
     ]
    },
    {
     "name": "stdout",
     "output_type": "stream",
     "text": [
      "{'createThreshold': 0.14347717058214893, 'removeThreshold': 0.4599877486662678, 'surviveThreshold': 0.19529953717509585, 'surviveMovePercent': 0.2092874200808037, 'minScorePrediction': 0.1707639141718199}  --->  54.21\n"
     ]
    },
    {
     "name": "stderr",
     "output_type": "stream",
     "text": [
      "\r",
      " 80%|██████████████████████████████████████████████████████████████████▍                | 8/10 [00:56<00:14,  7.30s/it]"
     ]
    },
    {
     "name": "stdout",
     "output_type": "stream",
     "text": [
      "{'createThreshold': 0.40374725687244983, 'removeThreshold': 0.16827581552205806, 'surviveThreshold': 0.027482637310466407, 'surviveMovePercent': 0.1100693539431793, 'minScorePrediction': 0.16823292108431875}  --->  51.97\n"
     ]
    },
    {
     "name": "stderr",
     "output_type": "stream",
     "text": [
      "\r",
      " 90%|██████████████████████████████████████████████████████████████████████████▋        | 9/10 [01:03<00:07,  7.37s/it]"
     ]
    },
    {
     "name": "stdout",
     "output_type": "stream",
     "text": [
      "{'createThreshold': 0.49027514595390176, 'removeThreshold': 0.059717743408587265, 'surviveThreshold': 0.022428664588240554, 'surviveMovePercent': 0.44802301613879536, 'minScorePrediction': 0.4077429699364221}  --->  46.97\n"
     ]
    },
    {
     "name": "stderr",
     "output_type": "stream",
     "text": [
      "100%|██████████████████████████████████████████████████████████████████████████████████| 10/10 [01:10<00:00,  7.33s/it]\n"
     ]
    },
    {
     "name": "stdout",
     "output_type": "stream",
     "text": [
      "Found best config with MaP = 54.21:\n",
      "possibleLabels = {'people': (255, 0, 0), 'person-fa': (0, 0, 255), 'person': (0, 255, 0)}\n",
      "trainId = 2\n",
      "modelName = trained_weights_final.h5\n",
      "inputShape = (416, 416)\n",
      "freezeNoEpochs = 10\n",
      "noFreezeNoEpochs = 10\n",
      "isTiny = False\n",
      "validationSplit = 0.1\n",
      "freezeBatchSize = 16\n",
      "noFreezeBatchSize = 16\n",
      "loadPretrained = True\n",
      "checkpointPeriod = 150\n",
      "createThreshold = 0.14347717058214893\n",
      "removeThreshold = 0.4599877486662678\n",
      "surviveThreshold = 0.19529953717509585\n",
      "surviveMovePercent = 0.2092874200808037\n",
      "minScorePrediction = 0.1707639141718199\n",
      "maxAge = 100\n",
      "\n"
     ]
    }
   ],
   "source": [
    "from pedect.evaluator.HyperParametersTuner import *\n",
    "\n",
    "ctRange = (0.0, 1.0)\n",
    "rtRange = (0.0, 1.0)\n",
    "stRange = (0.0, 1.0)\n",
    "smpRange = (0.0, 1.0)\n",
    "mspRange = (0.0, 1.0)\n",
    "\n",
    "videosList = [ (\"caltech\", \"set03\", \"V000\"), (\"caltech\" , \"set01\", \"V005\"), (\"caltech\", \"set01\", \"V000\")]\n",
    "# videosList = [(\"caltech\" , \"set01\", \"V005\")]\n",
    "controller = optimizeTrackerConfig(ctRange, rtRange, stRange, smpRange, mspRange, videosList, 10, 30, False)"
   ]
  },
  {
   "cell_type": "code",
   "execution_count": 9,
   "metadata": {},
   "outputs": [
    {
     "name": "stdout",
     "output_type": "stream",
     "text": [
      "possibleLabels = {'people': (255, 0, 0), 'person-fa': (0, 0, 255), 'person': (0, 255, 0)}\n",
      "trainId = 2\n",
      "modelName = trained_weights_final.h5\n",
      "inputShape = (416, 416)\n",
      "freezeNoEpochs = 10\n",
      "noFreezeNoEpochs = 10\n",
      "isTiny = False\n",
      "validationSplit = 0.1\n",
      "freezeBatchSize = 16\n",
      "noFreezeBatchSize = 16\n",
      "loadPretrained = True\n",
      "checkpointPeriod = 150\n",
      "createThreshold = 0.14347717058214893\n",
      "removeThreshold = 0.4599877486662678\n",
      "surviveThreshold = 0.19529953717509585\n",
      "surviveMovePercent = 0.2092874200808037\n",
      "minScorePrediction = 0.1707639141718199\n",
      "maxAge = 100\n",
      "\n"
     ]
    }
   ],
   "source": [
    "print(controller.config)"
   ]
  },
  {
   "cell_type": "code",
   "execution_count": 7,
   "metadata": {},
   "outputs": [
    {
     "ename": "NameError",
     "evalue": "name 'gtPredictor' is not defined",
     "output_type": "error",
     "traceback": [
      "\u001b[1;31m---------------------------------------------------------------------------\u001b[0m",
      "\u001b[1;31mNameError\u001b[0m                                 Traceback (most recent call last)",
      "\u001b[1;32m<ipython-input-7-1f17159d30f7>\u001b[0m in \u001b[0;36m<module>\u001b[1;34m\u001b[0m\n\u001b[1;32m----> 1\u001b[1;33m \u001b[0mn\u001b[0m \u001b[1;33m=\u001b[0m \u001b[0mgtPredictor\u001b[0m\u001b[1;33m.\u001b[0m\u001b[0mgetLength\u001b[0m\u001b[1;33m(\u001b[0m\u001b[1;33m)\u001b[0m\u001b[1;33m\u001b[0m\u001b[1;33m\u001b[0m\u001b[0m\n\u001b[0m\u001b[0;32m      2\u001b[0m \u001b[1;33m\u001b[0m\u001b[0m\n\u001b[0;32m      3\u001b[0m \u001b[0mrez\u001b[0m \u001b[1;33m=\u001b[0m \u001b[1;33m[\u001b[0m\u001b[0mlen\u001b[0m\u001b[1;33m(\u001b[0m\u001b[0mpred\u001b[0m\u001b[1;33m.\u001b[0m\u001b[0mpredictForFrame\u001b[0m\u001b[1;33m(\u001b[0m\u001b[0mi\u001b[0m\u001b[1;33m)\u001b[0m\u001b[1;33m)\u001b[0m \u001b[1;32mfor\u001b[0m \u001b[0mi\u001b[0m \u001b[1;32min\u001b[0m \u001b[0mtqdm\u001b[0m\u001b[1;33m(\u001b[0m\u001b[0mrange\u001b[0m\u001b[1;33m(\u001b[0m\u001b[0mn\u001b[0m\u001b[1;33m)\u001b[0m\u001b[1;33m)\u001b[0m\u001b[1;33m]\u001b[0m\u001b[1;33m\u001b[0m\u001b[1;33m\u001b[0m\u001b[0m\n\u001b[0;32m      4\u001b[0m \u001b[0mrezGT\u001b[0m \u001b[1;33m=\u001b[0m \u001b[1;33m[\u001b[0m\u001b[0mlen\u001b[0m\u001b[1;33m(\u001b[0m\u001b[0mgtPredictor\u001b[0m\u001b[1;33m.\u001b[0m\u001b[0mpredictForFrame\u001b[0m\u001b[1;33m(\u001b[0m\u001b[0mi\u001b[0m\u001b[1;33m)\u001b[0m\u001b[1;33m)\u001b[0m \u001b[1;32mfor\u001b[0m \u001b[0mi\u001b[0m \u001b[1;32min\u001b[0m \u001b[0mtqdm\u001b[0m\u001b[1;33m(\u001b[0m\u001b[0mrange\u001b[0m\u001b[1;33m(\u001b[0m\u001b[0mn\u001b[0m\u001b[1;33m)\u001b[0m\u001b[1;33m)\u001b[0m\u001b[1;33m]\u001b[0m\u001b[1;33m\u001b[0m\u001b[1;33m\u001b[0m\u001b[0m\n",
      "\u001b[1;31mNameError\u001b[0m: name 'gtPredictor' is not defined"
     ]
    }
   ],
   "source": []
  },
  {
   "cell_type": "code",
   "execution_count": 25,
   "metadata": {},
   "outputs": [
    {
     "name": "stderr",
     "output_type": "stream",
     "text": [
      "100%|█████████████████████████████████████████████████████████████████████████████| 1814/1814 [00:09<00:00, 189.69it/s]\n"
     ]
    },
    {
     "name": "stdout",
     "output_type": "stream",
     "text": [
      "20.7\n",
      "20.7\n"
     ]
    }
   ],
   "source": []
  },
  {
   "cell_type": "code",
   "execution_count": null,
   "metadata": {},
   "outputs": [
    {
     "name": "stderr",
     "output_type": "stream",
     "text": [
      "  4%|███                                                                            | 71/1814 [00:00<00:07, 232.12it/s]"
     ]
    }
   ],
   "source": []
  },
  {
   "cell_type": "code",
   "execution_count": 6,
   "metadata": {},
   "outputs": [
    {
     "name": "stderr",
     "output_type": "stream",
     "text": [
      "100%|███████████████████████████████████████████████████████████████████████████████| 100/100 [00:00<00:00, 178.15it/s]\n"
     ]
    },
    {
     "name": "stdout",
     "output_type": "stream",
     "text": [
      "23.37\n",
      "23.37\n"
     ]
    }
   ],
   "source": []
  },
  {
   "cell_type": "code",
   "execution_count": 3,
   "metadata": {},
   "outputs": [],
   "source": []
  },
  {
   "cell_type": "code",
   "execution_count": 13,
   "metadata": {},
   "outputs": [],
   "source": []
  },
  {
   "cell_type": "code",
   "execution_count": 5,
   "metadata": {},
   "outputs": [
    {
     "name": "stdout",
     "output_type": "stream",
     "text": [
      "possibleLabels = {'people': (255, 0, 0), 'person-fa': (0, 0, 255), 'person': (0, 255, 0)}\n",
      "trainId = 2\n",
      "modelName = trained_weights_final.h5\n",
      "inputShape = (416, 416)\n",
      "freezeNoEpochs = 10\n",
      "noFreezeNoEpochs = 10\n",
      "isTiny = False\n",
      "validationSplit = 0.1\n",
      "freezeBatchSize = 16\n",
      "noFreezeBatchSize = 16\n",
      "loadPretrained = True\n",
      "checkpointPeriod = 150\n",
      "createThreshold = 0.9\n",
      "removeThreshold = 0.5\n",
      "surviveThreshold = 0.2\n",
      "surviveMovePercent = 0.0\n",
      "maxAge = 100\n",
      "\n"
     ]
    }
   ],
   "source": []
  },
  {
   "cell_type": "code",
   "execution_count": 6,
   "metadata": {},
   "outputs": [],
   "source": []
  },
  {
   "cell_type": "code",
   "execution_count": 7,
   "metadata": {
    "scrolled": true
   },
   "outputs": [],
   "source": []
  },
  {
   "cell_type": "code",
   "execution_count": 8,
   "metadata": {},
   "outputs": [
    {
     "name": "stderr",
     "output_type": "stream",
     "text": [
      "C:\\Users\\sebin\\Anaconda3\\envs\\py36\\lib\\site-packages\\matplotlib\\axes\\_axes.py:6521: MatplotlibDeprecationWarning: \n",
      "The 'normed' kwarg was deprecated in Matplotlib 2.1 and will be removed in 3.1. Use 'density' instead.\n",
      "  alternative=\"'density'\", removal=\"3.1\")\n"
     ]
    },
    {
     "data": {
      "image/png": "[encoded data removed]",
      "text/plain": [
       "<Figure size 432x288 with 1 Axes>"
      ]
     },
     "metadata": {
      "needs_background": "light"
     },
     "output_type": "display_data"
    }
   ],
   "source": []
  },
  {
   "cell_type": "code",
   "execution_count": 11,
   "metadata": {},
   "outputs": [
    {
     "name": "stderr",
     "output_type": "stream",
     "text": [
      "100%|██████████████████████████████████████████████████████████████████████████████| 1000/1000 [00:58<00:00, 17.06it/s]\n"
     ]
    },
    {
     "data": {
      "image/png": "[encoded data removed]",
      "text/plain": [
       "<Figure size 432x288 with 1 Axes>"
      ]
     },
     "metadata": {
      "needs_background": "light"
     },
     "output_type": "display_data"
    }
   ],
   "source": []
  },
  {
   "cell_type": "code",
   "execution_count": 23,
   "metadata": {},
   "outputs": [
    {
     "name": "stderr",
     "output_type": "stream",
     "text": [
      "100%|████████████████████████████████████████████████████████████████████████████| 1000/1000 [00:00<00:00, 6867.67it/s]\n"
     ]
    },
    {
     "data": {
      "image/png": "[encoded data removed]",
      "text/plain": [
       "<Figure size 432x288 with 1 Axes>"
      ]
     },
     "metadata": {
      "needs_background": "light"
     },
     "output_type": "display_data"
    },
    {
     "name": "stdout",
     "output_type": "stream",
     "text": [
      "886\n"
     ]
    }
   ],
   "source": []
  },
  {
   "cell_type": "code",
   "execution_count": 24,
   "metadata": {},
   "outputs": [
    {
     "name": "stderr",
     "output_type": "stream",
     "text": [
      "100%|████████████████████████████████████████████████████████████████████████████| 1000/1000 [00:00<00:00, 7446.64it/s]\n"
     ]
    },
    {
     "data": {
      "image/png": "[encoded data removed]",
      "text/plain": [
       "<Figure size 432x288 with 1 Axes>"
      ]
     },
     "metadata": {
      "needs_background": "light"
     },
     "output_type": "display_data"
    },
    {
     "name": "stdout",
     "output_type": "stream",
     "text": [
      "886\n"
     ]
    }
   ],
   "source": []
  },
  {
   "cell_type": "code",
   "execution_count": 12,
   "metadata": {
    "scrolled": true
   },
   "outputs": [
    {
     "name": "stderr",
     "output_type": "stream",
     "text": [
      "\n",
      "\n",
      "  0%|                                                                                            | 0/1 [00:00<?, ?it/s]"
     ]
    },
    {
     "name": "stdout",
     "output_type": "stream",
     "text": [
      "17.36\n"
     ]
    },
    {
     "name": "stderr",
     "output_type": "stream",
     "text": [
      "\n",
      "\n",
      "100%|███████████████████████████████████████████████████████████████████████████████████| 1/1 [02:03<00:00, 123.20s/it]"
     ]
    },
    {
     "name": "stdout",
     "output_type": "stream",
     "text": [
      "possibleLabels = {'people': (255, 0, 0), 'person-fa': (0, 0, 255), 'person': (0, 255, 0)}\n",
      "trainId = 2\n",
      "modelName = trained_weights_final.h5\n",
      "inputShape = (416, 416)\n",
      "freezeNoEpochs = 10\n",
      "noFreezeNoEpochs = 10\n",
      "isTiny = False\n",
      "validationSplit = 0.1\n",
      "freezeBatchSize = 16\n",
      "noFreezeBatchSize = 16\n",
      "loadPretrained = True\n",
      "checkpointPeriod = 150\n",
      "createThreshold = 0.26348606582851886\n",
      "removeThreshold = 0.008680453071432968\n",
      "surviveThreshold = 0.995231812103833\n",
      "surviveMovePercent = 0.9974125185620148\n",
      "maxAge = 100\n",
      " 17.36\n"
     ]
    }
   ],
   "source": []
  },
  {
   "cell_type": "code",
   "execution_count": 11,
   "metadata": {},
   "outputs": [
    {
     "ename": "KeyboardInterrupt",
     "evalue": "",
     "output_type": "error",
     "traceback": [
      "\u001b[1;31m---------------------------------------------------------------------------\u001b[0m",
      "\u001b[1;31mKeyboardInterrupt\u001b[0m                         Traceback (most recent call last)",
      "\u001b[1;32m<ipython-input-11-8a89323bc363>\u001b[0m in \u001b[0;36m<module>\u001b[1;34m\u001b[0m\n\u001b[0;32m      1\u001b[0m \u001b[1;32mfrom\u001b[0m \u001b[0mpedect\u001b[0m\u001b[1;33m.\u001b[0m\u001b[0mutils\u001b[0m\u001b[1;33m.\u001b[0m\u001b[0mdemo\u001b[0m \u001b[1;32mimport\u001b[0m \u001b[1;33m*\u001b[0m\u001b[1;33m\u001b[0m\u001b[1;33m\u001b[0m\u001b[0m\n\u001b[0;32m      2\u001b[0m \u001b[1;33m\u001b[0m\u001b[0m\n\u001b[1;32m----> 3\u001b[1;33m \u001b[0mresults\u001b[0m \u001b[1;33m=\u001b[0m \u001b[0mplayVideo\u001b[0m\u001b[1;33m(\u001b[0m\u001b[0mpredictor\u001b[0m\u001b[1;33m,\u001b[0m \u001b[0mvideoHolder\u001b[0m\u001b[1;33m,\u001b[0m \u001b[0mtracker\u001b[0m\u001b[1;33m,\u001b[0m \u001b[0mbestConfig\u001b[0m\u001b[1;33m)\u001b[0m\u001b[1;33m\u001b[0m\u001b[1;33m\u001b[0m\u001b[0m\n\u001b[0m",
      "\u001b[1;32mE:\\licenta\\App\\pedect\\utils\\demo.py\u001b[0m in \u001b[0;36mplayVideo\u001b[1;34m(predictor, videoHolder, tracker, config)\u001b[0m\n\u001b[0;32m     27\u001b[0m                                                     config.surviveThreshold)\n\u001b[0;32m     28\u001b[0m         activeObjects = createAndDestroyTrackedObjects(tracker, image, activeObjects, predictedBBoxes,\n\u001b[1;32m---> 29\u001b[1;33m                                                        config.createThreshold, config.removeThreshold, frameNr)\n\u001b[0m\u001b[0;32m     30\u001b[0m         \u001b[0maddRectanglesToImage\u001b[0m\u001b[1;33m(\u001b[0m\u001b[0mtracker\u001b[0m\u001b[1;33m,\u001b[0m \u001b[0mimage\u001b[0m\u001b[1;33m,\u001b[0m \u001b[0mactiveObjects\u001b[0m\u001b[1;33m,\u001b[0m \u001b[0mpredictedBBoxes\u001b[0m\u001b[1;33m,\u001b[0m \u001b[0mconfig\u001b[0m\u001b[1;33m.\u001b[0m\u001b[0mcreateThreshold\u001b[0m\u001b[1;33m)\u001b[0m\u001b[1;33m\u001b[0m\u001b[1;33m\u001b[0m\u001b[0m\n\u001b[0;32m     31\u001b[0m \u001b[1;33m\u001b[0m\u001b[0m\n",
      "\u001b[1;32mE:\\licenta\\App\\pedect\\utils\\trackedObjectsOperations.py\u001b[0m in \u001b[0;36mcreateAndDestroyTrackedObjects\u001b[1;34m(tracker, image, activeObjects, predictedBBoxes, createThreshold, removeThreshold, frameNr)\u001b[0m\n\u001b[0;32m     63\u001b[0m             \u001b[0mactiveObjects\u001b[0m \u001b[1;33m=\u001b[0m \u001b[1;33m{\u001b[0m\u001b[0mk\u001b[0m\u001b[1;33m:\u001b[0m \u001b[0mv\u001b[0m \u001b[1;32mfor\u001b[0m \u001b[0mk\u001b[0m\u001b[1;33m,\u001b[0m \u001b[0mv\u001b[0m \u001b[1;32min\u001b[0m \u001b[0mactiveObjects\u001b[0m\u001b[1;33m.\u001b[0m\u001b[0mitems\u001b[0m\u001b[1;33m(\u001b[0m\u001b[1;33m)\u001b[0m \u001b[1;32mif\u001b[0m \u001b[0mIOU\u001b[0m\u001b[1;33m(\u001b[0m\u001b[0mv\u001b[0m\u001b[1;33m.\u001b[0m\u001b[0mgetPos\u001b[0m\u001b[1;33m(\u001b[0m\u001b[1;33m)\u001b[0m\u001b[1;33m,\u001b[0m \u001b[0mbox\u001b[0m\u001b[1;33m)\u001b[0m \u001b[1;33m<\u001b[0m \u001b[0mremoveThreshold\u001b[0m\u001b[1;33m}\u001b[0m\u001b[1;33m\u001b[0m\u001b[1;33m\u001b[0m\u001b[0m\n\u001b[0;32m     64\u001b[0m             \u001b[0mactiveObjects\u001b[0m\u001b[1;33m[\u001b[0m\u001b[0mnewId\u001b[0m\u001b[1;33m]\u001b[0m \u001b[1;33m=\u001b[0m \u001b[0mTrackedObject\u001b[0m\u001b[1;33m(\u001b[0m\u001b[0mbox\u001b[0m\u001b[1;33m,\u001b[0m \u001b[0mframeNr\u001b[0m\u001b[1;33m,\u001b[0m \u001b[0mpredBox\u001b[0m\u001b[1;33m.\u001b[0m\u001b[0mgetLabel\u001b[0m\u001b[1;33m(\u001b[0m\u001b[1;33m)\u001b[0m\u001b[1;33m)\u001b[0m\u001b[1;33m\u001b[0m\u001b[1;33m\u001b[0m\u001b[0m\n\u001b[1;32m---> 65\u001b[1;33m             \u001b[0mtracker\u001b[0m\u001b[1;33m.\u001b[0m\u001b[0mtrack\u001b[0m\u001b[1;33m(\u001b[0m\u001b[0mnewId\u001b[0m\u001b[1;33m,\u001b[0m \u001b[0mimage\u001b[0m\u001b[1;33m,\u001b[0m \u001b[0mbox\u001b[0m\u001b[1;33m)\u001b[0m\u001b[1;33m\u001b[0m\u001b[1;33m\u001b[0m\u001b[0m\n\u001b[0m\u001b[0;32m     66\u001b[0m     \u001b[1;32mreturn\u001b[0m \u001b[0mactiveObjects\u001b[0m\u001b[1;33m\u001b[0m\u001b[1;33m\u001b[0m\u001b[0m\n\u001b[0;32m     67\u001b[0m \u001b[1;33m\u001b[0m\u001b[0m\n",
      "\u001b[1;32mE:\\licenta\\App\\re3-tensorflow\\tracker\\re3_tracker.py\u001b[0m in \u001b[0;36mtrack\u001b[1;34m(self, unique_id, image, starting_box)\u001b[0m\n\u001b[0;32m     86\u001b[0m                 \u001b[0mself\u001b[0m\u001b[1;33m.\u001b[0m\u001b[0mbatch_size\u001b[0m \u001b[1;33m:\u001b[0m \u001b[1;36m1\u001b[0m\u001b[1;33m,\u001b[0m\u001b[1;33m\u001b[0m\u001b[1;33m\u001b[0m\u001b[0m\n\u001b[0;32m     87\u001b[0m                 }\n\u001b[1;32m---> 88\u001b[1;33m         \u001b[0mrawOutput\u001b[0m\u001b[1;33m,\u001b[0m \u001b[0ms1\u001b[0m\u001b[1;33m,\u001b[0m \u001b[0ms2\u001b[0m \u001b[1;33m=\u001b[0m \u001b[0mself\u001b[0m\u001b[1;33m.\u001b[0m\u001b[0msess\u001b[0m\u001b[1;33m.\u001b[0m\u001b[0mrun\u001b[0m\u001b[1;33m(\u001b[0m\u001b[1;33m[\u001b[0m\u001b[0mself\u001b[0m\u001b[1;33m.\u001b[0m\u001b[0moutputs\u001b[0m\u001b[1;33m,\u001b[0m \u001b[0mself\u001b[0m\u001b[1;33m.\u001b[0m\u001b[0mstate1\u001b[0m\u001b[1;33m,\u001b[0m \u001b[0mself\u001b[0m\u001b[1;33m.\u001b[0m\u001b[0mstate2\u001b[0m\u001b[1;33m]\u001b[0m\u001b[1;33m,\u001b[0m \u001b[0mfeed_dict\u001b[0m\u001b[1;33m=\u001b[0m\u001b[0mfeed_dict\u001b[0m\u001b[1;33m)\u001b[0m\u001b[1;33m\u001b[0m\u001b[1;33m\u001b[0m\u001b[0m\n\u001b[0m\u001b[0;32m     89\u001b[0m         \u001b[0mlstmState\u001b[0m \u001b[1;33m=\u001b[0m \u001b[1;33m[\u001b[0m\u001b[0ms1\u001b[0m\u001b[1;33m[\u001b[0m\u001b[1;36m0\u001b[0m\u001b[1;33m]\u001b[0m\u001b[1;33m,\u001b[0m \u001b[0ms1\u001b[0m\u001b[1;33m[\u001b[0m\u001b[1;36m1\u001b[0m\u001b[1;33m]\u001b[0m\u001b[1;33m,\u001b[0m \u001b[0ms2\u001b[0m\u001b[1;33m[\u001b[0m\u001b[1;36m0\u001b[0m\u001b[1;33m]\u001b[0m\u001b[1;33m,\u001b[0m \u001b[0ms2\u001b[0m\u001b[1;33m[\u001b[0m\u001b[1;36m1\u001b[0m\u001b[1;33m]\u001b[0m\u001b[1;33m]\u001b[0m\u001b[1;33m\u001b[0m\u001b[1;33m\u001b[0m\u001b[0m\n\u001b[0;32m     90\u001b[0m         \u001b[1;32mif\u001b[0m \u001b[0mforwardCount\u001b[0m \u001b[1;33m==\u001b[0m \u001b[1;36m0\u001b[0m\u001b[1;33m:\u001b[0m\u001b[1;33m\u001b[0m\u001b[1;33m\u001b[0m\u001b[0m\n",
      "\u001b[1;32m~\\Anaconda3\\envs\\py36\\lib\\site-packages\\tensorflow\\python\\client\\session.py\u001b[0m in \u001b[0;36mrun\u001b[1;34m(self, fetches, feed_dict, options, run_metadata)\u001b[0m\n\u001b[0;32m    927\u001b[0m     \u001b[1;32mtry\u001b[0m\u001b[1;33m:\u001b[0m\u001b[1;33m\u001b[0m\u001b[1;33m\u001b[0m\u001b[0m\n\u001b[0;32m    928\u001b[0m       result = self._run(None, fetches, feed_dict, options_ptr,\n\u001b[1;32m--> 929\u001b[1;33m                          run_metadata_ptr)\n\u001b[0m\u001b[0;32m    930\u001b[0m       \u001b[1;32mif\u001b[0m \u001b[0mrun_metadata\u001b[0m\u001b[1;33m:\u001b[0m\u001b[1;33m\u001b[0m\u001b[1;33m\u001b[0m\u001b[0m\n\u001b[0;32m    931\u001b[0m         \u001b[0mproto_data\u001b[0m \u001b[1;33m=\u001b[0m \u001b[0mtf_session\u001b[0m\u001b[1;33m.\u001b[0m\u001b[0mTF_GetBuffer\u001b[0m\u001b[1;33m(\u001b[0m\u001b[0mrun_metadata_ptr\u001b[0m\u001b[1;33m)\u001b[0m\u001b[1;33m\u001b[0m\u001b[1;33m\u001b[0m\u001b[0m\n",
      "\u001b[1;32m~\\Anaconda3\\envs\\py36\\lib\\site-packages\\tensorflow\\python\\client\\session.py\u001b[0m in \u001b[0;36m_run\u001b[1;34m(self, handle, fetches, feed_dict, options, run_metadata)\u001b[0m\n\u001b[0;32m   1150\u001b[0m     \u001b[1;32mif\u001b[0m \u001b[0mfinal_fetches\u001b[0m \u001b[1;32mor\u001b[0m \u001b[0mfinal_targets\u001b[0m \u001b[1;32mor\u001b[0m \u001b[1;33m(\u001b[0m\u001b[0mhandle\u001b[0m \u001b[1;32mand\u001b[0m \u001b[0mfeed_dict_tensor\u001b[0m\u001b[1;33m)\u001b[0m\u001b[1;33m:\u001b[0m\u001b[1;33m\u001b[0m\u001b[1;33m\u001b[0m\u001b[0m\n\u001b[0;32m   1151\u001b[0m       results = self._do_run(handle, final_targets, final_fetches,\n\u001b[1;32m-> 1152\u001b[1;33m                              feed_dict_tensor, options, run_metadata)\n\u001b[0m\u001b[0;32m   1153\u001b[0m     \u001b[1;32melse\u001b[0m\u001b[1;33m:\u001b[0m\u001b[1;33m\u001b[0m\u001b[1;33m\u001b[0m\u001b[0m\n\u001b[0;32m   1154\u001b[0m       \u001b[0mresults\u001b[0m \u001b[1;33m=\u001b[0m \u001b[1;33m[\u001b[0m\u001b[1;33m]\u001b[0m\u001b[1;33m\u001b[0m\u001b[1;33m\u001b[0m\u001b[0m\n",
      "\u001b[1;32m~\\Anaconda3\\envs\\py36\\lib\\site-packages\\tensorflow\\python\\client\\session.py\u001b[0m in \u001b[0;36m_do_run\u001b[1;34m(self, handle, target_list, fetch_list, feed_dict, options, run_metadata)\u001b[0m\n\u001b[0;32m   1326\u001b[0m     \u001b[1;32mif\u001b[0m \u001b[0mhandle\u001b[0m \u001b[1;32mis\u001b[0m \u001b[1;32mNone\u001b[0m\u001b[1;33m:\u001b[0m\u001b[1;33m\u001b[0m\u001b[1;33m\u001b[0m\u001b[0m\n\u001b[0;32m   1327\u001b[0m       return self._do_call(_run_fn, feeds, fetches, targets, options,\n\u001b[1;32m-> 1328\u001b[1;33m                            run_metadata)\n\u001b[0m\u001b[0;32m   1329\u001b[0m     \u001b[1;32melse\u001b[0m\u001b[1;33m:\u001b[0m\u001b[1;33m\u001b[0m\u001b[1;33m\u001b[0m\u001b[0m\n\u001b[0;32m   1330\u001b[0m       \u001b[1;32mreturn\u001b[0m \u001b[0mself\u001b[0m\u001b[1;33m.\u001b[0m\u001b[0m_do_call\u001b[0m\u001b[1;33m(\u001b[0m\u001b[0m_prun_fn\u001b[0m\u001b[1;33m,\u001b[0m \u001b[0mhandle\u001b[0m\u001b[1;33m,\u001b[0m \u001b[0mfeeds\u001b[0m\u001b[1;33m,\u001b[0m \u001b[0mfetches\u001b[0m\u001b[1;33m)\u001b[0m\u001b[1;33m\u001b[0m\u001b[1;33m\u001b[0m\u001b[0m\n",
      "\u001b[1;32m~\\Anaconda3\\envs\\py36\\lib\\site-packages\\tensorflow\\python\\client\\session.py\u001b[0m in \u001b[0;36m_do_call\u001b[1;34m(self, fn, *args)\u001b[0m\n\u001b[0;32m   1332\u001b[0m   \u001b[1;32mdef\u001b[0m \u001b[0m_do_call\u001b[0m\u001b[1;33m(\u001b[0m\u001b[0mself\u001b[0m\u001b[1;33m,\u001b[0m \u001b[0mfn\u001b[0m\u001b[1;33m,\u001b[0m \u001b[1;33m*\u001b[0m\u001b[0margs\u001b[0m\u001b[1;33m)\u001b[0m\u001b[1;33m:\u001b[0m\u001b[1;33m\u001b[0m\u001b[1;33m\u001b[0m\u001b[0m\n\u001b[0;32m   1333\u001b[0m     \u001b[1;32mtry\u001b[0m\u001b[1;33m:\u001b[0m\u001b[1;33m\u001b[0m\u001b[1;33m\u001b[0m\u001b[0m\n\u001b[1;32m-> 1334\u001b[1;33m       \u001b[1;32mreturn\u001b[0m \u001b[0mfn\u001b[0m\u001b[1;33m(\u001b[0m\u001b[1;33m*\u001b[0m\u001b[0margs\u001b[0m\u001b[1;33m)\u001b[0m\u001b[1;33m\u001b[0m\u001b[1;33m\u001b[0m\u001b[0m\n\u001b[0m\u001b[0;32m   1335\u001b[0m     \u001b[1;32mexcept\u001b[0m \u001b[0merrors\u001b[0m\u001b[1;33m.\u001b[0m\u001b[0mOpError\u001b[0m \u001b[1;32mas\u001b[0m \u001b[0me\u001b[0m\u001b[1;33m:\u001b[0m\u001b[1;33m\u001b[0m\u001b[1;33m\u001b[0m\u001b[0m\n\u001b[0;32m   1336\u001b[0m       \u001b[0mmessage\u001b[0m \u001b[1;33m=\u001b[0m \u001b[0mcompat\u001b[0m\u001b[1;33m.\u001b[0m\u001b[0mas_text\u001b[0m\u001b[1;33m(\u001b[0m\u001b[0me\u001b[0m\u001b[1;33m.\u001b[0m\u001b[0mmessage\u001b[0m\u001b[1;33m)\u001b[0m\u001b[1;33m\u001b[0m\u001b[1;33m\u001b[0m\u001b[0m\n",
      "\u001b[1;32m~\\Anaconda3\\envs\\py36\\lib\\site-packages\\tensorflow\\python\\client\\session.py\u001b[0m in \u001b[0;36m_run_fn\u001b[1;34m(feed_dict, fetch_list, target_list, options, run_metadata)\u001b[0m\n\u001b[0;32m   1317\u001b[0m       \u001b[0mself\u001b[0m\u001b[1;33m.\u001b[0m\u001b[0m_extend_graph\u001b[0m\u001b[1;33m(\u001b[0m\u001b[1;33m)\u001b[0m\u001b[1;33m\u001b[0m\u001b[1;33m\u001b[0m\u001b[0m\n\u001b[0;32m   1318\u001b[0m       return self._call_tf_sessionrun(\n\u001b[1;32m-> 1319\u001b[1;33m           options, feed_dict, fetch_list, target_list, run_metadata)\n\u001b[0m\u001b[0;32m   1320\u001b[0m \u001b[1;33m\u001b[0m\u001b[0m\n\u001b[0;32m   1321\u001b[0m     \u001b[1;32mdef\u001b[0m \u001b[0m_prun_fn\u001b[0m\u001b[1;33m(\u001b[0m\u001b[0mhandle\u001b[0m\u001b[1;33m,\u001b[0m \u001b[0mfeed_dict\u001b[0m\u001b[1;33m,\u001b[0m \u001b[0mfetch_list\u001b[0m\u001b[1;33m)\u001b[0m\u001b[1;33m:\u001b[0m\u001b[1;33m\u001b[0m\u001b[1;33m\u001b[0m\u001b[0m\n",
      "\u001b[1;32m~\\Anaconda3\\envs\\py36\\lib\\site-packages\\tensorflow\\python\\client\\session.py\u001b[0m in \u001b[0;36m_call_tf_sessionrun\u001b[1;34m(self, options, feed_dict, fetch_list, target_list, run_metadata)\u001b[0m\n\u001b[0;32m   1405\u001b[0m     return tf_session.TF_SessionRun_wrapper(\n\u001b[0;32m   1406\u001b[0m         \u001b[0mself\u001b[0m\u001b[1;33m.\u001b[0m\u001b[0m_session\u001b[0m\u001b[1;33m,\u001b[0m \u001b[0moptions\u001b[0m\u001b[1;33m,\u001b[0m \u001b[0mfeed_dict\u001b[0m\u001b[1;33m,\u001b[0m \u001b[0mfetch_list\u001b[0m\u001b[1;33m,\u001b[0m \u001b[0mtarget_list\u001b[0m\u001b[1;33m,\u001b[0m\u001b[1;33m\u001b[0m\u001b[1;33m\u001b[0m\u001b[0m\n\u001b[1;32m-> 1407\u001b[1;33m         run_metadata)\n\u001b[0m\u001b[0;32m   1408\u001b[0m \u001b[1;33m\u001b[0m\u001b[0m\n\u001b[0;32m   1409\u001b[0m   \u001b[1;32mdef\u001b[0m \u001b[0m_call_tf_sessionprun\u001b[0m\u001b[1;33m(\u001b[0m\u001b[0mself\u001b[0m\u001b[1;33m,\u001b[0m \u001b[0mhandle\u001b[0m\u001b[1;33m,\u001b[0m \u001b[0mfeed_dict\u001b[0m\u001b[1;33m,\u001b[0m \u001b[0mfetch_list\u001b[0m\u001b[1;33m)\u001b[0m\u001b[1;33m:\u001b[0m\u001b[1;33m\u001b[0m\u001b[1;33m\u001b[0m\u001b[0m\n",
      "\u001b[1;31mKeyboardInterrupt\u001b[0m: "
     ]
    }
   ],
   "source": [
    "from pedect.utils.demo import *\n",
    "\n",
    "results = playVideo(predictor, videoHolder, tracker, controller.config)"
   ]
  },
  {
   "cell_type": "code",
   "execution_count": 10,
   "metadata": {},
   "outputs": [
    {
     "name": "stderr",
     "output_type": "stream",
     "text": [
      "100%|██████████████████████████████████████████████████████████████████████████████| 1814/1814 [01:54<00:00, 15.78it/s]\n"
     ]
    },
    {
     "name": "stdout",
     "output_type": "stream",
     "text": [
      "16.42\n",
      "16.42\n"
     ]
    }
   ],
   "source": [
    "evaluator = Evaluator(bestConfig, predictor, gtPredictor)\n",
    "print(evaluator.evaluate(True))"
   ]
  },
  {
   "cell_type": "code",
   "execution_count": 5,
   "metadata": {},
   "outputs": [
    {
     "name": "stdout",
     "output_type": "stream",
     "text": [
      "324\n",
      "-544\n"
     ]
    }
   ],
   "source": [
    "a = [rez[i] - rezGT[i] for i in range(len(rez))]\n",
    "b = [x for x in a if x > 0]\n",
    "c = [x for x in a if x < 0]\n",
    "print(sum(b))\n",
    "print(sum(c))"
   ]
  },
  {
   "cell_type": "code",
   "execution_count": 9,
   "metadata": {},
   "outputs": [],
   "source": [
    "# train(config)"
   ]
  },
  {
   "cell_type": "code",
   "execution_count": 11,
   "metadata": {},
   "outputs": [],
   "source": [
    "# evaluate(config)"
   ]
  },
  {
   "cell_type": "code",
   "execution_count": 2,
   "metadata": {},
   "outputs": [
    {
     "name": "stderr",
     "output_type": "stream",
     "text": [
      "Format mjpeg detected only with low score of 25, misdetection possible!\n"
     ]
    }
   ],
   "source": [
    "from pedect.utils.constants import *\n",
    "from pedect.dataset.CaltechDataset import CaltechDataset\n",
    "from pedect.predictor.FakePredictor import FakePredictor\n",
    "from pedect.predictor.GroundTruthPredictor import GroundTruthPredictor\n",
    "from pedect.predictor.TrackerPredictor import TrackerPredictor\n",
    "from pedect.config.BasicConfig import BasicConfig\n",
    "chosenDataset = CaltechDataset(CALTECH_DIR)\n",
    "gtPredictor = GroundTruthPredictor(chosenDataset, \"set01\", \"V000\")\n",
    "fakePredictor = FakePredictor((0.0, 0.8), (0.3, 1.0), gtPredictor, gtPredictor)\n",
    "predictor = TrackerPredictor(fakePredictor, gtPredictor, tracker, BasicConfig())"
   ]
  },
  {
   "cell_type": "code",
   "execution_count": 4,
   "metadata": {},
   "outputs": [
    {
     "name": "stdout",
     "output_type": "stream",
     "text": [
      "\n",
      "        BasicConfig\n",
      "        Possible labels = {'people': (255, 0, 0), 'person-fa': (0, 0, 255), 'person': (0, 255, 0)}\n",
      "        Batch size = 1\n",
      "        Steps per epoch = 100\n",
      "        Number of epochs = 100\n",
      "        Image max side = 600\n",
      "        Backbone = mobilenet128_1.0\n",
      "        Create Threshold = 0.347968\n",
      "        Remove Threshold = 0.161871\n",
      "        Survive Threshold = 0.914376\n",
      "        Survive Move Percent = 0.840482\n",
      "        Max Age = 100\n",
      "         69.75\n"
     ]
    }
   ],
   "source": [
    "print(bestConfig, result)"
   ]
  },
  {
   "cell_type": "code",
   "execution_count": null,
   "metadata": {},
   "outputs": [],
   "source": []
  }
 ],
 "metadata": {
  "kernelspec": {
   "display_name": "Python 3",
   "language": "python",
   "name": "python3"
  },
  "language_info": {
   "codemirror_mode": {
    "name": "ipython",
    "version": 3
   },
   "file_extension": ".py",
   "mimetype": "text/x-python",
   "name": "python",
   "nbconvert_exporter": "python",
   "pygments_lexer": "ipython3",
   "version": "3.6.8"
  }
 },
 "nbformat": 4,
 "nbformat_minor": 2
}
