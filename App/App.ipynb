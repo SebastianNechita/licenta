{
 "cells": [
  {
   "cell_type": "code",
   "execution_count": 1,
   "metadata": {},
   "outputs": [
    {
     "name": "stderr",
     "output_type": "stream",
     "text": [
      "Using TensorFlow backend.\n"
     ]
    }
   ],
   "source": [
    "from pedect.converter.ConverterToImages import *\n",
    "from pedect.config.BasicConfig import BasicConfig\n",
    "from pedect.utils.detector.debug import debug\n",
    "from pedect.utils.detector.train import train\n",
    "from pedect.utils.detector.evaluate import evaluate\n",
    "import os\n"
   ]
  },
  {
   "cell_type": "code",
   "execution_count": 2,
   "metadata": {},
   "outputs": [
    {
     "name": "stdout",
     "output_type": "stream",
     "text": [
      "Saving images from caltech set set01 video V000\n"
     ]
    },
    {
     "name": "stderr",
     "output_type": "stream",
     "text": [
      "Format mjpeg detected only with low score of 25, misdetection possible!\n",
      "  0%|                                                                                         | 0/1711 [00:00<?, ?it/s]Format mjpeg detected only with low score of 25, misdetection possible!\n",
      "deprecated pixel format used, make sure you did set range correctly\n",
      "100%|██████████████████████████████████████████████████████████████████████████████| 1711/1711 [00:23<00:00, 71.58it/s]\n"
     ]
    }
   ],
   "source": [
    "convertVideosToImages([(\"caltech\" , \"set01\", \"V000\")], YOLO)\n",
    "# convertVideosToImages([(\"caltech\" , \"set01\", \"V000\"), (\"caltech\", \"set02\", \"V000\")], YOLO)"
   ]
  },
  {
   "cell_type": "code",
   "execution_count": 8,
   "metadata": {},
   "outputs": [],
   "source": [
    "config = BasicConfig()\n",
    "# debug(config)"
   ]
  },
  {
   "cell_type": "code",
   "execution_count": 9,
   "metadata": {},
   "outputs": [],
   "source": [
    "# train(config)"
   ]
  },
  {
   "cell_type": "code",
   "execution_count": 11,
   "metadata": {},
   "outputs": [],
   "source": [
    "# evaluate(config)"
   ]
  },
  {
   "cell_type": "code",
   "execution_count": 1,
   "metadata": {},
   "outputs": [
    {
     "name": "stdout",
     "output_type": "stream",
     "text": [
      "Restoring:\n",
      "re3/conv1/W_conv -> \t[11, 11, 3, 96] = 0MB\n",
      "re3/conv1/b_conv -> \t[96] = 0MB\n",
      "re3/conv1_skip/W_conv -> \t[1, 1, 96, 16] = 0MB\n",
      "re3/conv1_skip/b_conv -> \t[16] = 0MB\n",
      "re3/conv1_skip/prelu -> \t[16] = 0MB\n",
      "re3/conv2/W_conv -> \t[5, 5, 48, 256] = 1MB\n",
      "re3/conv2/b_conv -> \t[256] = 0MB\n",
      "re3/conv2_skip/W_conv -> \t[1, 1, 256, 32] = 0MB\n",
      "re3/conv2_skip/b_conv -> \t[32] = 0MB\n",
      "re3/conv2_skip/prelu -> \t[32] = 0MB\n",
      "re3/conv3/W_conv -> \t[3, 3, 256, 384] = 3MB\n",
      "re3/conv3/b_conv -> \t[384] = 0MB\n",
      "re3/conv4/W_conv -> \t[3, 3, 192, 384] = 2MB\n",
      "re3/conv4/b_conv -> \t[384] = 0MB\n",
      "re3/conv5/W_conv -> \t[3, 3, 192, 256] = 1MB\n",
      "re3/conv5/b_conv -> \t[256] = 0MB\n",
      "re3/conv5_skip/W_conv -> \t[1, 1, 256, 64] = 0MB\n",
      "re3/conv5_skip/b_conv -> \t[64] = 0MB\n",
      "re3/conv5_skip/prelu -> \t[64] = 0MB\n",
      "re3/fc6/W_fc -> \t[74208, 1024] = 303MB\n",
      "re3/fc6/b_fc -> \t[1024] = 0MB\n",
      "re3/fc_output/W_fc -> \t[512, 4] = 0MB\n",
      "re3/fc_output/b_fc -> \t[4] = 0MB\n",
      "re3/lstm1/rnn/lstm_cell/bias -> \t[2048] = 0MB\n",
      "re3/lstm1/rnn/lstm_cell/kernel -> \t[1536, 2048] = 12MB\n",
      "re3/lstm1/rnn/lstm_cell/w_f_diag -> \t[512] = 0MB\n",
      "re3/lstm1/rnn/lstm_cell/w_i_diag -> \t[512] = 0MB\n",
      "re3/lstm1/rnn/lstm_cell/w_o_diag -> \t[512] = 0MB\n",
      "re3/lstm2/rnn/lstm_cell/bias -> \t[2048] = 0MB\n",
      "re3/lstm2/rnn/lstm_cell/kernel -> \t[2048, 2048] = 16MB\n",
      "re3/lstm2/rnn/lstm_cell/w_f_diag -> \t[512] = 0MB\n",
      "re3/lstm2/rnn/lstm_cell/w_i_diag -> \t[512] = 0MB\n",
      "re3/lstm2/rnn/lstm_cell/w_o_diag -> \t[512] = 0MB\n",
      "\n",
      "\n",
      "Did not restore:beta1_power\n",
      "\tbeta2_power\n",
      "\tglobal_step\n",
      "\tre3/conv1/W_conv/Adam\n",
      "\tre3/conv1/W_conv/Adam_1\n",
      "\tre3/conv1/b_conv/Adam\n",
      "\tre3/conv1/b_conv/Adam_1\n",
      "\tre3/conv1_skip/W_conv/Adam\n",
      "\tre3/conv1_skip/W_conv/Adam_1\n",
      "\tre3/conv1_skip/b_conv/Adam\n",
      "\tre3/conv1_skip/b_conv/Adam_1\n",
      "\tre3/conv1_skip/prelu/Adam\n",
      "\tre3/conv1_skip/prelu/Adam_1\n",
      "\tre3/conv2/W_conv/Adam\n",
      "\tre3/conv2/W_conv/Adam_1\n",
      "\tre3/conv2/b_conv/Adam\n",
      "\tre3/conv2/b_conv/Adam_1\n",
      "\tre3/conv2_skip/W_conv/Adam\n",
      "\tre3/conv2_skip/W_conv/Adam_1\n",
      "\tre3/conv2_skip/b_conv/Adam\n",
      "\tre3/conv2_skip/b_conv/Adam_1\n",
      "\tre3/conv2_skip/prelu/Adam\n",
      "\tre3/conv2_skip/prelu/Adam_1\n",
      "\tre3/conv3/W_conv/Adam\n",
      "\tre3/conv3/W_conv/Adam_1\n",
      "\tre3/conv3/b_conv/Adam\n",
      "\tre3/conv3/b_conv/Adam_1\n",
      "\tre3/conv4/W_conv/Adam\n",
      "\tre3/conv4/W_conv/Adam_1\n",
      "\tre3/conv4/b_conv/Adam\n",
      "\tre3/conv4/b_conv/Adam_1\n",
      "\tre3/conv5/W_conv/Adam\n",
      "\tre3/conv5/W_conv/Adam_1\n",
      "\tre3/conv5/b_conv/Adam\n",
      "\tre3/conv5/b_conv/Adam_1\n",
      "\tre3/conv5_skip/W_conv/Adam\n",
      "\tre3/conv5_skip/W_conv/Adam_1\n",
      "\tre3/conv5_skip/b_conv/Adam\n",
      "\tre3/conv5_skip/b_conv/Adam_1\n",
      "\tre3/conv5_skip/prelu/Adam\n",
      "\tre3/conv5_skip/prelu/Adam_1\n",
      "\tre3/fc6/W_fc/Adam\n",
      "\tre3/fc6/W_fc/Adam_1\n",
      "\tre3/fc6/b_fc/Adam\n",
      "\tre3/fc6/b_fc/Adam_1\n",
      "\tre3/fc_output/W_fc/Adam\n",
      "\tre3/fc_output/W_fc/Adam_1\n",
      "\tre3/fc_output/b_fc/Adam\n",
      "\tre3/fc_output/b_fc/Adam_1\n",
      "\tre3/lstm1/rnn/lstm_cell/bias/Adam\n",
      "\tre3/lstm1/rnn/lstm_cell/bias/Adam_1\n",
      "\tre3/lstm1/rnn/lstm_cell/kernel/Adam\n",
      "\tre3/lstm1/rnn/lstm_cell/kernel/Adam_1\n",
      "\tre3/lstm1/rnn/lstm_cell/w_f_diag/Adam\n",
      "\tre3/lstm1/rnn/lstm_cell/w_f_diag/Adam_1\n",
      "\tre3/lstm1/rnn/lstm_cell/w_i_diag/Adam\n",
      "\tre3/lstm1/rnn/lstm_cell/w_i_diag/Adam_1\n",
      "\tre3/lstm1/rnn/lstm_cell/w_o_diag/Adam\n",
      "\tre3/lstm1/rnn/lstm_cell/w_o_diag/Adam_1\n",
      "\tre3/lstm2/rnn/lstm_cell/bias/Adam\n",
      "\tre3/lstm2/rnn/lstm_cell/bias/Adam_1\n",
      "\tre3/lstm2/rnn/lstm_cell/kernel/Adam\n",
      "\tre3/lstm2/rnn/lstm_cell/kernel/Adam_1\n",
      "\tre3/lstm2/rnn/lstm_cell/w_f_diag/Adam\n",
      "\tre3/lstm2/rnn/lstm_cell/w_f_diag/Adam_1\n",
      "\tre3/lstm2/rnn/lstm_cell/w_i_diag/Adam\n",
      "\tre3/lstm2/rnn/lstm_cell/w_i_diag/Adam_1\n",
      "\tre3/lstm2/rnn/lstm_cell/w_o_diag/Adam\n",
      "\tre3/lstm2/rnn/lstm_cell/w_o_diag/Adam_1\n",
      "INFO:tensorflow:Restoring parameters from E:\\licenta\\App\\re3-tensorflow\\logs\\checkpoints\\model.ckpt-260946\n",
      "Restored E:\\licenta\\App\\re3-tensorflow\\logs\\checkpoints\\model.ckpt-260946\n"
     ]
    }
   ],
   "source": [
    "from tracker import re3_tracker \n",
    "tracker = re3_tracker.Re3Tracker()"
   ]
  },
  {
   "cell_type": "code",
   "execution_count": 2,
   "metadata": {},
   "outputs": [
    {
     "name": "stderr",
     "output_type": "stream",
     "text": [
      "Format mjpeg detected only with low score of 25, misdetection possible!\n"
     ]
    }
   ],
   "source": [
    "from pedect.utils.constants import *\n",
    "from pedect.dataset.CaltechDataset import CaltechDataset\n",
    "from pedect.predictor.FakePredictor import FakePredictor\n",
    "from pedect.predictor.GroundTruthPredictor import GroundTruthPredictor\n",
    "from pedect.predictor.TrackerPredictor import TrackerPredictor\n",
    "from pedect.config.BasicConfig import BasicConfig\n",
    "chosenDataset = CaltechDataset(CALTECH_DIR)\n",
    "gtPredictor = GroundTruthPredictor(chosenDataset, \"set01\", \"V000\")\n",
    "fakePredictor = FakePredictor((0.0, 0.8), (0.3, 1.0), gtPredictor, gtPredictor)\n",
    "predictor = TrackerPredictor(fakePredictor, gtPredictor, tracker, BasicConfig())"
   ]
  },
  {
   "cell_type": "code",
   "execution_count": 3,
   "metadata": {
    "scrolled": true
   },
   "outputs": [
    {
     "name": "stderr",
     "output_type": "stream",
     "text": [
      "  0%|                                                                                            | 0/3 [00:00<?, ?it/s]Format mjpeg detected only with low score of 25, misdetection possible!\n",
      "deprecated pixel format used, make sure you did set range correctly\n"
     ]
    },
    {
     "name": "stdout",
     "output_type": "stream",
     "text": [
      "Current tracking speed:   0.185 FPS\n",
      "Current image read speed: 100000.000 FPS\n",
      "Mean tracking speed:      0.000 FPS\n",
      "\n"
     ]
    },
    {
     "name": "stderr",
     "output_type": "stream",
     "text": [
      "deprecated pixel format used, make sure you did set range correctly\n",
      " (repeated 2 more times)\n",
      "Format mjpeg detected only with low score of 25, misdetection possible!\n",
      "deprecated pixel format used, make sure you did set range correctly\n",
      "deprecated pixel format used, make sure you did set range correctly\n",
      "Format mjpeg detected only with low score of 25, misdetection possible!\n",
      "deprecated pixel format used, make sure you did set range correctly\n",
      "deprecated pixel format used, make sure you did set range correctly\n",
      "Format mjpeg detected only with low score of 25, misdetection possible!\n",
      "deprecated pixel format used, make sure you did set range correctly\n",
      "deprecated pixel format used, make sure you did set range correctly\n",
      "Format mjpeg detected only with low score of 25, misdetection possible!\n",
      "deprecated pixel format used, make sure you did set range correctly\n",
      "deprecated pixel format used, make sure you did set range correctly\n",
      "Format mjpeg detected only with low score of 25, misdetection possible!\n",
      "deprecated pixel format used, make sure you did set range correctly\n",
      "deprecated pixel format used, make sure you did set range correctly\n",
      "Format mjpeg detected only with low score of 25, misdetection possible!\n",
      "deprecated pixel format used, make sure you did set range correctly\n",
      "deprecated pixel format used, make sure you did set range correctly\n",
      "Format mjpeg detected only with low score of 25, misdetection possible!\n",
      "deprecated pixel format used, make sure you did set range correctly\n",
      "deprecated pixel format used, make sure you did set range correctly\n",
      "Format mjpeg detected only with low score of 25, misdetection possible!\n",
      "deprecated pixel format used, make sure you did set range correctly\n",
      "deprecated pixel format used, make sure you did set range correctly\n",
      "Format mjpeg detected only with low score of 25, misdetection possible!\n",
      "deprecated pixel format used, make sure you did set range correctly\n"
     ]
    },
    {
     "name": "stdout",
     "output_type": "stream",
     "text": [
      "69.75\n"
     ]
    },
    {
     "name": "stderr",
     "output_type": "stream",
     "text": [
      " 33%|████████████████████████████                                                        | 1/3 [00:10<00:21, 10.60s/it]deprecated pixel format used, make sure you did set range correctly\n",
      " (repeated 3 more times)\n",
      "Format mjpeg detected only with low score of 25, misdetection possible!\n",
      "deprecated pixel format used, make sure you did set range correctly\n",
      "deprecated pixel format used, make sure you did set range correctly\n",
      "Format mjpeg detected only with low score of 25, misdetection possible!\n",
      "deprecated pixel format used, make sure you did set range correctly\n",
      "deprecated pixel format used, make sure you did set range correctly\n",
      "Format mjpeg detected only with low score of 25, misdetection possible!\n",
      "deprecated pixel format used, make sure you did set range correctly\n",
      "deprecated pixel format used, make sure you did set range correctly\n",
      "Format mjpeg detected only with low score of 25, misdetection possible!\n",
      "deprecated pixel format used, make sure you did set range correctly\n",
      "deprecated pixel format used, make sure you did set range correctly\n",
      "Format mjpeg detected only with low score of 25, misdetection possible!\n",
      "deprecated pixel format used, make sure you did set range correctly\n",
      "deprecated pixel format used, make sure you did set range correctly\n",
      "Format mjpeg detected only with low score of 25, misdetection possible!\n",
      "deprecated pixel format used, make sure you did set range correctly\n",
      "deprecated pixel format used, make sure you did set range correctly\n",
      "Format mjpeg detected only with low score of 25, misdetection possible!\n",
      "deprecated pixel format used, make sure you did set range correctly\n",
      "deprecated pixel format used, make sure you did set range correctly\n",
      "Format mjpeg detected only with low score of 25, misdetection possible!\n",
      "deprecated pixel format used, make sure you did set range correctly\n",
      "deprecated pixel format used, make sure you did set range correctly\n",
      "Format mjpeg detected only with low score of 25, misdetection possible!\n",
      "deprecated pixel format used, make sure you did set range correctly\n"
     ]
    },
    {
     "name": "stdout",
     "output_type": "stream",
     "text": [
      "47.22\n"
     ]
    },
    {
     "name": "stderr",
     "output_type": "stream",
     "text": [
      "\r",
      " 67%|████████████████████████████████████████████████████████                            | 2/3 [00:15<00:08,  8.87s/it]"
     ]
    },
    {
     "name": "stdout",
     "output_type": "stream",
     "text": [
      "Current tracking speed:   19.645 FPS\n",
      "Current image read speed: 100000.000 FPS\n",
      "Mean tracking speed:      20.887 FPS\n",
      "\n"
     ]
    },
    {
     "name": "stderr",
     "output_type": "stream",
     "text": [
      "deprecated pixel format used, make sure you did set range correctly\n",
      " (repeated 3 more times)\n",
      "Format mjpeg detected only with low score of 25, misdetection possible!\n",
      "deprecated pixel format used, make sure you did set range correctly\n",
      "deprecated pixel format used, make sure you did set range correctly\n",
      "Format mjpeg detected only with low score of 25, misdetection possible!\n",
      "deprecated pixel format used, make sure you did set range correctly\n",
      "deprecated pixel format used, make sure you did set range correctly\n",
      "Format mjpeg detected only with low score of 25, misdetection possible!\n",
      "deprecated pixel format used, make sure you did set range correctly\n",
      "deprecated pixel format used, make sure you did set range correctly\n",
      "Format mjpeg detected only with low score of 25, misdetection possible!\n",
      "deprecated pixel format used, make sure you did set range correctly\n",
      "deprecated pixel format used, make sure you did set range correctly\n",
      "Format mjpeg detected only with low score of 25, misdetection possible!\n",
      "deprecated pixel format used, make sure you did set range correctly\n",
      "deprecated pixel format used, make sure you did set range correctly\n",
      "Format mjpeg detected only with low score of 25, misdetection possible!\n",
      "deprecated pixel format used, make sure you did set range correctly\n",
      "deprecated pixel format used, make sure you did set range correctly\n",
      "Format mjpeg detected only with low score of 25, misdetection possible!\n",
      "deprecated pixel format used, make sure you did set range correctly\n",
      "deprecated pixel format used, make sure you did set range correctly\n",
      "Format mjpeg detected only with low score of 25, misdetection possible!\n",
      "deprecated pixel format used, make sure you did set range correctly\n",
      "deprecated pixel format used, make sure you did set range correctly\n",
      "Format mjpeg detected only with low score of 25, misdetection possible!\n",
      "deprecated pixel format used, make sure you did set range correctly\n"
     ]
    },
    {
     "name": "stdout",
     "output_type": "stream",
     "text": [
      "45.86\n"
     ]
    },
    {
     "name": "stderr",
     "output_type": "stream",
     "text": [
      "100%|████████████████████████████████████████████████████████████████████████████████████| 3/3 [00:20<00:00,  7.62s/it]\n"
     ]
    },
    {
     "name": "stdout",
     "output_type": "stream",
     "text": [
      "\n",
      "        BasicConfig\n",
      "        Possible labels = {'people': (255, 0, 0), 'person-fa': (0, 0, 255), 'person': (0, 255, 0)}\n",
      "        Batch size = 1\n",
      "        Steps per epoch = 100\n",
      "        Number of epochs = 100\n",
      "        Image max side = 600\n",
      "        Backbone = mobilenet128_1.0\n",
      "        Create Threshold = 0.347968\n",
      "        Remove Threshold = 0.161871\n",
      "        Survive Threshold = 0.914376\n",
      "        Survive Move Percent = 0.840482\n",
      "        Max Age = 100\n",
      "         69.75\n"
     ]
    }
   ],
   "source": [
    "from pedect.utils.evaluator.HyperParametersTuner import HyperParametersTuner\n",
    "\n",
    "\n",
    "noIterations = 3\n",
    "ctRange = (0.0, 1.0)\n",
    "rtRange = (0.0, 1.0)\n",
    "stRange = (0.0, 1.0)\n",
    "smpRange = (0.0, 1.0)\n",
    "bestConfig, result = HyperParametersTuner.findBestConfig(predictor, gtPredictor, 10, noIterations, ctRange, rtRange, stRange, \n",
    "                                                     smpRange)\n",
    "print(bestConfig, result)\n",
    "    \n",
    "# results = playVideo(predictor, tracker, config)"
   ]
  },
  {
   "cell_type": "code",
   "execution_count": 4,
   "metadata": {},
   "outputs": [
    {
     "name": "stdout",
     "output_type": "stream",
     "text": [
      "\n",
      "        BasicConfig\n",
      "        Possible labels = {'people': (255, 0, 0), 'person-fa': (0, 0, 255), 'person': (0, 255, 0)}\n",
      "        Batch size = 1\n",
      "        Steps per epoch = 100\n",
      "        Number of epochs = 100\n",
      "        Image max side = 600\n",
      "        Backbone = mobilenet128_1.0\n",
      "        Create Threshold = 0.347968\n",
      "        Remove Threshold = 0.161871\n",
      "        Survive Threshold = 0.914376\n",
      "        Survive Move Percent = 0.840482\n",
      "        Max Age = 100\n",
      "         69.75\n"
     ]
    }
   ],
   "source": [
    "print(bestConfig, result)"
   ]
  },
  {
   "cell_type": "code",
   "execution_count": null,
   "metadata": {},
   "outputs": [],
   "source": []
  }
 ],
 "metadata": {
  "kernelspec": {
   "display_name": "Python 3",
   "language": "python",
   "name": "python3"
  },
  "language_info": {
   "codemirror_mode": {
    "name": "ipython",
    "version": 3
   },
   "file_extension": ".py",
   "mimetype": "text/x-python",
   "name": "python",
   "nbconvert_exporter": "python",
   "pygments_lexer": "ipython3",
   "version": "3.6.8"
  }
 },
 "nbformat": 4,
 "nbformat_minor": 2
}
